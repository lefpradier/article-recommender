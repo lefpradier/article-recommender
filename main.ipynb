{
 "cells": [
  {
   "cell_type": "code",
   "execution_count": 1,
   "metadata": {},
   "outputs": [],
   "source": [
    "import sys\n",
    "\n",
    "sys.path.append(\"src/\")"
   ]
  },
  {
   "cell_type": "code",
   "execution_count": 2,
   "metadata": {},
   "outputs": [
    {
     "name": "stderr",
     "output_type": "stream",
     "text": [
      "2023-11-15 18:46:43.021985: I tensorflow/core/platform/cpu_feature_guard.cc:193] This TensorFlow binary is optimized with oneAPI Deep Neural Network Library (oneDNN) to use the following CPU instructions in performance-critical operations:  AVX2 FMA\n",
      "To enable them in other operations, rebuild TensorFlow with the appropriate compiler flags.\n",
      "2023-11-15 18:46:43.493295: W tensorflow/compiler/xla/stream_executor/platform/default/dso_loader.cc:64] Could not load dynamic library 'libnvinfer.so.7'; dlerror: libnvinfer.so.7: cannot open shared object file: No such file or directory\n",
      "2023-11-15 18:46:43.493367: W tensorflow/compiler/xla/stream_executor/platform/default/dso_loader.cc:64] Could not load dynamic library 'libnvinfer_plugin.so.7'; dlerror: libnvinfer_plugin.so.7: cannot open shared object file: No such file or directory\n",
      "2023-11-15 18:46:43.493372: W tensorflow/compiler/tf2tensorrt/utils/py_utils.cc:38] TF-TRT Warning: Cannot dlopen some TensorRT libraries. If you would like to use Nvidia GPU with TensorRT, please make sure the missing libraries mentioned above are installed properly.\n"
     ]
    }
   ],
   "source": [
    "import projet9_functions as p9"
   ]
  },
  {
   "cell_type": "code",
   "execution_count": 2,
   "metadata": {},
   "outputs": [
    {
     "name": "stdout",
     "output_type": "stream",
     "text": [
      "2023-11-08 18:11:32.160495: W tensorflow/compiler/xla/stream_executor/platform/default/dso_loader.cc:64] Could not load dynamic library 'libnvinfer.so.7'; dlerror: libnvinfer.so.7: cannot open shared object file: No such file or directory\n",
      "2023-11-08 18:11:32.160561: W tensorflow/compiler/xla/stream_executor/platform/default/dso_loader.cc:64] Could not load dynamic library 'libnvinfer_plugin.so.7'; dlerror: libnvinfer_plugin.so.7: cannot open shared object file: No such file or directory\n",
      "2023-11-08 18:11:32.160569: W tensorflow/compiler/tf2tensorrt/utils/py_utils.cc:38] TF-TRT Warning: Cannot dlopen some TensorRT libraries. If you would like to use Nvidia GPU with TensorRT, please make sure the missing libraries mentioned above are installed properly.\n",
      "2023/11/08 18:11:33 INFO mlflow.store.db.utils: Creating initial MLflow database tables...\n",
      "2023/11/08 18:11:33 INFO mlflow.store.db.utils: Updating database tables\n",
      "INFO  [alembic.runtime.migration] Context impl SQLiteImpl.\n",
      "INFO  [alembic.runtime.migration] Will assume non-transactional DDL.\n",
      "INFO  [alembic.runtime.migration] Context impl SQLiteImpl.\n",
      "INFO  [alembic.runtime.migration] Will assume non-transactional DDL.\n",
      "\u001b[0m"
     ]
    }
   ],
   "source": [
    "!{sys.executable} src/popularity.py"
   ]
  },
  {
   "cell_type": "code",
   "execution_count": 12,
   "metadata": {},
   "outputs": [
    {
     "name": "stdout",
     "output_type": "stream",
     "text": [
      "2023-11-13 17:06:30.036128: W tensorflow/compiler/xla/stream_executor/platform/default/dso_loader.cc:64] Could not load dynamic library 'libnvinfer.so.7'; dlerror: libnvinfer.so.7: cannot open shared object file: No such file or directory\n",
      "2023-11-13 17:06:30.036197: W tensorflow/compiler/xla/stream_executor/platform/default/dso_loader.cc:64] Could not load dynamic library 'libnvinfer_plugin.so.7'; dlerror: libnvinfer_plugin.so.7: cannot open shared object file: No such file or directory\n",
      "2023-11-13 17:06:30.036205: W tensorflow/compiler/tf2tensorrt/utils/py_utils.cc:38] TF-TRT Warning: Cannot dlopen some TensorRT libraries. If you would like to use Nvidia GPU with TensorRT, please make sure the missing libraries mentioned above are installed properly.\n",
      "2023/11/13 17:06:31 INFO mlflow.store.db.utils: Creating initial MLflow database tables...\n",
      "2023/11/13 17:06:31 INFO mlflow.store.db.utils: Updating database tables\n",
      "INFO  [alembic.runtime.migration] Context impl SQLiteImpl.\n",
      "INFO  [alembic.runtime.migration] Will assume non-transactional DDL.\n",
      "INFO  [alembic.runtime.migration] Context impl SQLiteImpl.\n",
      "INFO  [alembic.runtime.migration] Will assume non-transactional DDL.\n",
      "\u001b[0m"
     ]
    }
   ],
   "source": [
    "!{sys.executable} src/content_based.py"
   ]
  },
  {
   "cell_type": "code",
   "execution_count": 3,
   "metadata": {},
   "outputs": [
    {
     "data": {
      "image/png": "[encoded data removed]",
      "text/plain": [
       "<Figure size 640x480 with 1 Axes>"
      ]
     },
     "metadata": {},
     "output_type": "display_data"
    }
   ],
   "source": [
    "import pandas as pd\n",
    "\n",
    "df = pd.read_csv(\"data/clicks.csv\")\n",
    "p9.get_average_similarity(df)"
   ]
  },
  {
   "cell_type": "code",
   "execution_count": 14,
   "metadata": {},
   "outputs": [
    {
     "name": "stdout",
     "output_type": "stream",
     "text": [
      "2023-11-13 17:27:42.500739: W tensorflow/compiler/xla/stream_executor/platform/default/dso_loader.cc:64] Could not load dynamic library 'libnvinfer.so.7'; dlerror: libnvinfer.so.7: cannot open shared object file: No such file or directory\n",
      "2023-11-13 17:27:42.500806: W tensorflow/compiler/xla/stream_executor/platform/default/dso_loader.cc:64] Could not load dynamic library 'libnvinfer_plugin.so.7'; dlerror: libnvinfer_plugin.so.7: cannot open shared object file: No such file or directory\n",
      "2023-11-13 17:27:42.500814: W tensorflow/compiler/tf2tensorrt/utils/py_utils.cc:38] TF-TRT Warning: Cannot dlopen some TensorRT libraries. If you would like to use Nvidia GPU with TensorRT, please make sure the missing libraries mentioned above are installed properly.\n",
      "2023/11/13 17:27:43 INFO mlflow.store.db.utils: Creating initial MLflow database tables...\n",
      "2023/11/13 17:27:43 INFO mlflow.store.db.utils: Updating database tables\n",
      "INFO  [alembic.runtime.migration] Context impl SQLiteImpl.\n",
      "INFO  [alembic.runtime.migration] Will assume non-transactional DDL.\n",
      "INFO  [alembic.runtime.migration] Context impl SQLiteImpl.\n",
      "INFO  [alembic.runtime.migration] Will assume non-transactional DDL.\n",
      "\u001b[31mpopularity based negative sampling\u001b[0m\n",
      "\u001b[34mrandom combinations\u001b[0m\n",
      "\u001b[34mmerge\u001b[0m\n",
      "\u001b[31mpreprocess and split\u001b[0m\n",
      "\u001b[31mcreate model and train\u001b[0m\n",
      "\u001b[34mcreate model\u001b[0m\n",
      "2023-11-13 17:29:24.242259: W tensorflow/compiler/xla/stream_executor/platform/default/dso_loader.cc:64] Could not load dynamic library 'libcudnn.so.8'; dlerror: libcudnn.so.8: Ne peut ouvrir le fichier d'objet partagé: Aucun fichier ou dossier de ce type\n",
      "2023-11-13 17:29:24.242289: W tensorflow/core/common_runtime/gpu/gpu_device.cc:1934] Cannot dlopen some GPU libraries. Please make sure the missing libraries mentioned above are installed properly if you would like to use GPU. Follow the guide at https://www.tensorflow.org/install/gpu for how to download and setup the required libraries for your platform.\n",
      "Skipping registering GPU devices...\n",
      "\u001b[34mcompile model\u001b[0m\n",
      "\u001b[34mfit model\u001b[0m\n",
      "Epoch 1/2\n",
      "2393/2393 [==============================] - 407s 169ms/step - loss: 0.5227\n",
      "Epoch 2/2\n",
      "2393/2393 [==============================] - 380s 159ms/step - loss: 0.0260\n",
      "WARNI [absl] Found untraced functions such as _update_step_xla while saving (showing 1 of 1). These functions will not be directly callable after loading.\n",
      "599/599 [==============================] - 1s 2ms/step\n",
      "\u001b[31mcompute score\u001b[0m\n",
      "\u001b[0m"
     ]
    }
   ],
   "source": [
    "!{sys.executable} src/SVD.py"
   ]
  },
  {
   "cell_type": "markdown",
   "metadata": {},
   "source": [
    "Essai max_sampled 1000, 5000, 10000\n"
   ]
  },
  {
   "cell_type": "code",
   "execution_count": 47,
   "metadata": {},
   "outputs": [
    {
     "name": "stdout",
     "output_type": "stream",
     "text": [
      "2023-11-21 15:06:40.768672: W tensorflow/compiler/xla/stream_executor/platform/default/dso_loader.cc:64] Could not load dynamic library 'libnvinfer.so.7'; dlerror: libnvinfer.so.7: cannot open shared object file: No such file or directory\n",
      "2023-11-21 15:06:40.768738: W tensorflow/compiler/xla/stream_executor/platform/default/dso_loader.cc:64] Could not load dynamic library 'libnvinfer_plugin.so.7'; dlerror: libnvinfer_plugin.so.7: cannot open shared object file: No such file or directory\n",
      "2023-11-21 15:06:40.768747: W tensorflow/compiler/tf2tensorrt/utils/py_utils.cc:38] TF-TRT Warning: Cannot dlopen some TensorRT libraries. If you would like to use Nvidia GPU with TensorRT, please make sure the missing libraries mentioned above are installed properly.\n",
      "2023/11/21 15:06:42 INFO mlflow.store.db.utils: Creating initial MLflow database tables...\n",
      "2023/11/21 15:06:42 INFO mlflow.store.db.utils: Updating database tables\n",
      "INFO  [alembic.runtime.migration] Context impl SQLiteImpl.\n",
      "INFO  [alembic.runtime.migration] Will assume non-transactional DDL.\n",
      "INFO  [alembic.runtime.migration] Context impl SQLiteImpl.\n",
      "INFO  [alembic.runtime.migration] Will assume non-transactional DDL.\n",
      "\u001b[34mrandom combinations\u001b[0m\n",
      "\u001b[34mmerge\u001b[0m\n",
      "\u001b[34mconvert\u001b[0m\n",
      "\u001b[34mmodel\u001b[0m\n",
      "Epoch: 100%|███████████████████████████████████| 30/30 [55:53<00:00, 111.80s/it]\n",
      "\u001b[31mcompute score\u001b[0m\n",
      "\u001b[0m"
     ]
    }
   ],
   "source": [
    "!{sys.executable} src/model_lightfm.py"
   ]
  },
  {
   "cell_type": "markdown",
   "metadata": {},
   "source": [
    "relancer plus tard\n"
   ]
  },
  {
   "cell_type": "code",
   "execution_count": 119,
   "metadata": {},
   "outputs": [
    {
     "name": "stdout",
     "output_type": "stream",
     "text": [
      "2023/11/30 15:23:59 INFO mlflow.store.db.utils: Creating initial MLflow database tables...\n",
      "2023/11/30 15:23:59 INFO mlflow.store.db.utils: Updating database tables\n",
      "INFO  [alembic.runtime.migration] Context impl SQLiteImpl.\n",
      "INFO  [alembic.runtime.migration] Will assume non-transactional DDL.\n",
      "INFO  [alembic.runtime.migration] Context impl SQLiteImpl.\n",
      "INFO  [alembic.runtime.migration] Will assume non-transactional DDL.\n",
      "\u001b[34mmodel\u001b[0m\n",
      "  6%|▍        | 11/200 [00:02<00:43,  4.39it/s, train_auc=50.65%, skipped=4.04%]^C\n"
     ]
    }
   ],
   "source": [
    "!{sys.executable} src/bpr.py"
   ]
  },
  {
   "cell_type": "code",
   "execution_count": 128,
   "metadata": {},
   "outputs": [
    {
     "name": "stdout",
     "output_type": "stream",
     "text": [
      "[2023-11-30 15:41:41,618][HYDRA] Launching 16 jobs locally\n",
      "[2023-11-30 15:41:41,618][HYDRA] \t#0 : n_factor=50 thr_pop=0\n",
      "2023/11/30 15:41:41 INFO mlflow.store.db.utils: Creating initial MLflow database tables...\n",
      "2023/11/30 15:41:41 INFO mlflow.store.db.utils: Updating database tables\n",
      "INFO  [alembic.runtime.migration] Context impl SQLiteImpl.\n",
      "INFO  [alembic.runtime.migration] Will assume non-transactional DDL.\n",
      "INFO  [alembic.runtime.migration] Context impl SQLiteImpl.\n",
      "INFO  [alembic.runtime.migration] Will assume non-transactional DDL.\n",
      "100%|████████| 200/200 [00:14<00:00, 14.28it/s, train_auc=97.21%, skipped=4.04%]\n",
      "\u001b[33mapply collaborative filtering recommender\u001b[0m\n",
      "400000it [00:40, 9807.13it/s]\n",
      "[2023-11-30 15:42:49,115][HYDRA] \t#1 : n_factor=50 thr_pop=3\n",
      "100%|████████| 200/200 [00:15<00:00, 13.06it/s, train_auc=97.19%, skipped=4.01%]\n",
      "\u001b[33mapply popularity recommender\u001b[0m\n",
      "\u001b[33mapply collaborative filtering recommender\u001b[0m\n",
      "400000it [00:25, 15450.51it/s]\n",
      "[2023-11-30 15:44:23,486][HYDRA] \t#2 : n_factor=50 thr_pop=6\n",
      "100%|████████| 200/200 [00:15<00:00, 12.89it/s, train_auc=97.21%, skipped=4.04%]\n",
      "\u001b[33mapply popularity recommender\u001b[0m\n",
      "\u001b[33mapply collaborative filtering recommender\u001b[0m\n",
      "400000it [00:14, 27529.36it/s]\n",
      "[2023-11-30 15:46:28,626][HYDRA] \t#3 : n_factor=50 thr_pop=12\n",
      "100%|████████| 200/200 [00:11<00:00, 17.82it/s, train_auc=97.19%, skipped=4.00%]\n",
      "\u001b[33mapply popularity recommender\u001b[0m\n",
      "\u001b[33mapply collaborative filtering recommender\u001b[0m\n",
      "400000it [00:06, 59142.96it/s]\n",
      "[2023-11-30 15:49:00,070][HYDRA] \t#4 : n_factor=100 thr_pop=0\n",
      "100%|████████| 200/200 [00:20<00:00,  9.64it/s, train_auc=97.83%, skipped=4.01%]\n",
      "\u001b[33mapply collaborative filtering recommender\u001b[0m\n",
      "400000it [00:39, 10015.34it/s]\n",
      "[2023-11-30 15:50:12,192][HYDRA] \t#5 : n_factor=100 thr_pop=3\n",
      "100%|████████| 200/200 [00:20<00:00,  9.63it/s, train_auc=97.83%, skipped=4.02%]\n",
      "\u001b[33mapply popularity recommender\u001b[0m\n",
      "\u001b[33mapply collaborative filtering recommender\u001b[0m\n",
      "400000it [00:25, 15570.45it/s]\n",
      "[2023-11-30 15:51:50,086][HYDRA] \t#6 : n_factor=100 thr_pop=6\n",
      "100%|████████| 200/200 [00:22<00:00,  8.93it/s, train_auc=97.83%, skipped=4.02%]\n",
      "\u001b[33mapply popularity recommender\u001b[0m\n",
      "\u001b[33mapply collaborative filtering recommender\u001b[0m\n",
      "400000it [00:14, 26879.86it/s]\n",
      "[2023-11-30 15:54:02,327][HYDRA] \t#7 : n_factor=100 thr_pop=12\n",
      "100%|████████| 200/200 [00:22<00:00,  8.87it/s, train_auc=97.85%, skipped=4.02%]\n",
      "\u001b[33mapply popularity recommender\u001b[0m\n",
      "\u001b[33mapply collaborative filtering recommender\u001b[0m\n",
      "400000it [00:06, 57788.42it/s]\n",
      "[2023-11-30 15:56:44,007][HYDRA] \t#8 : n_factor=200 thr_pop=0\n",
      "100%|████████| 200/200 [00:35<00:00,  5.56it/s, train_auc=97.92%, skipped=4.04%]\n",
      "\u001b[33mapply collaborative filtering recommender\u001b[0m\n",
      "400000it [00:45, 8844.63it/s]\n",
      "[2023-11-30 15:58:16,749][HYDRA] \t#9 : n_factor=200 thr_pop=3\n",
      "100%|████████| 200/200 [00:35<00:00,  5.58it/s, train_auc=97.92%, skipped=4.03%]\n",
      "\u001b[33mapply popularity recommender\u001b[0m\n",
      "\u001b[33mapply collaborative filtering recommender\u001b[0m\n",
      "400000it [00:29, 13698.46it/s]\n",
      "[2023-11-30 16:00:13,518][HYDRA] \t#10 : n_factor=200 thr_pop=6\n",
      "100%|████████| 200/200 [00:35<00:00,  5.59it/s, train_auc=97.93%, skipped=4.02%]\n",
      "\u001b[33mapply popularity recommender\u001b[0m\n",
      "\u001b[33mapply collaborative filtering recommender\u001b[0m\n",
      "400000it [00:17, 23291.46it/s]\n",
      "[2023-11-30 16:02:40,335][HYDRA] \t#11 : n_factor=200 thr_pop=12\n",
      "100%|████████| 200/200 [00:36<00:00,  5.54it/s, train_auc=97.94%, skipped=4.02%]\n",
      "\u001b[33mapply popularity recommender\u001b[0m\n",
      "\u001b[33mapply collaborative filtering recommender\u001b[0m\n",
      "400000it [00:07, 51853.37it/s]\n",
      "[2023-11-30 16:05:38,216][HYDRA] \t#12 : n_factor=400 thr_pop=0\n",
      "100%|████████| 200/200 [01:08<00:00,  2.92it/s, train_auc=97.88%, skipped=4.03%]\n",
      "\u001b[33mapply collaborative filtering recommender\u001b[0m\n",
      "400000it [01:01, 6539.63it/s]\n",
      "[2023-11-30 16:07:59,912][HYDRA] \t#13 : n_factor=400 thr_pop=3\n",
      "100%|████████| 200/200 [01:09<00:00,  2.90it/s, train_auc=97.85%, skipped=4.02%]\n",
      "\u001b[33mapply popularity recommender\u001b[0m\n",
      "\u001b[33mapply collaborative filtering recommender\u001b[0m\n",
      "400000it [00:38, 10474.20it/s]\n",
      "[2023-11-30 16:10:38,401][HYDRA] \t#14 : n_factor=400 thr_pop=6\n",
      "100%|████████| 200/200 [01:08<00:00,  2.92it/s, train_auc=97.85%, skipped=4.02%]\n",
      "\u001b[33mapply popularity recommender\u001b[0m\n",
      "\u001b[33mapply collaborative filtering recommender\u001b[0m\n",
      "400000it [00:22, 17681.28it/s]\n",
      "[2023-11-30 16:13:42,765][HYDRA] \t#15 : n_factor=400 thr_pop=12\n",
      "100%|████████| 200/200 [01:08<00:00,  2.91it/s, train_auc=97.88%, skipped=4.03%]\n",
      "\u001b[33mapply popularity recommender\u001b[0m\n",
      "\u001b[33mapply collaborative filtering recommender\u001b[0m\n",
      "400000it [00:10, 38938.16it/s]\n",
      "\u001b[0m"
     ]
    }
   ],
   "source": [
    "!{sys.executable} src/hybrid.py -m"
   ]
  }
 ],
 "metadata": {
  "kernelspec": {
   "display_name": "projet9",
   "language": "python",
   "name": "projet9"
  },
  "language_info": {
   "codemirror_mode": {
    "name": "ipython",
    "version": 3
   },
   "file_extension": ".py",
   "mimetype": "text/x-python",
   "name": "python",
   "nbconvert_exporter": "python",
   "pygments_lexer": "ipython3",
   "version": "3.10.12"
  }
 },
 "nbformat": 4,
 "nbformat_minor": 2
}
