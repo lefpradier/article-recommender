{
 "cells": [
  {
   "cell_type": "markdown",
   "metadata": {},
   "source": [
    "# Exportation des bases de données\n",
    "\n",
    "Le fichier de données `clicks.csv` est un tableau utilisateur x items. On souhaite déployer les informations qu'il contient sur le service Azure Blob Storage, pour leur utilisation par des Azure Functions.<br>\n",
    "Le notebook suivant transforme les données et les exporte pour leur utilisation.\n"
   ]
  },
  {
   "cell_type": "code",
   "execution_count": null,
   "metadata": {},
   "outputs": [],
   "source": [
    "import pickle as pkl\n",
    "import pandas as pd"
   ]
  },
  {
   "cell_type": "code",
   "execution_count": 3,
   "metadata": {},
   "outputs": [],
   "source": [
    "data = pd.read_csv(\"data/clicks.csv\")"
   ]
  },
  {
   "cell_type": "code",
   "execution_count": 4,
   "metadata": {},
   "outputs": [],
   "source": [
    "# liste des articles lus par utilisateur\n",
    "groups = (\n",
    "    data.groupby(\"user_id\")\n",
    "    .apply(lambda x: x[\"click_article_id\"].unique().tolist())\n",
    "    .to_dict()\n",
    ")\n",
    "pkl.dump(groups, open(\"deployment/to_upload/user_db.pkl\", \"wb\"))"
   ]
  },
  {
   "cell_type": "code",
   "execution_count": 5,
   "metadata": {},
   "outputs": [],
   "source": [
    "# liste des articles connus dans le jeu de données\n",
    "id_article = data[\"click_article_id\"].unique().tolist()\n",
    "pkl.dump(id_article, open(\"deployment/to_upload/article_db.pkl\", \"wb\"))"
   ]
  }
 ],
 "metadata": {
  "kernelspec": {
   "display_name": "projet9",
   "language": "python",
   "name": "projet9"
  },
  "language_info": {
   "codemirror_mode": {
    "name": "ipython",
    "version": 3
   },
   "file_extension": ".py",
   "mimetype": "text/x-python",
   "name": "python",
   "nbconvert_exporter": "python",
   "pygments_lexer": "ipython3",
   "version": "3.10.12"
  }
 },
 "nbformat": 4,
 "nbformat_minor": 2
}
